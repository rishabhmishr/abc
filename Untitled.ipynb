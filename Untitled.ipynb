{
 "cells": [
  {
   "cell_type": "code",
   "execution_count": 1,
   "id": "b14301aa",
   "metadata": {},
   "outputs": [],
   "source": [
    "import pandas as pd\n",
    "import numpy as np"
   ]
  },
  {
   "cell_type": "code",
   "execution_count": 2,
   "id": "7a49c27e",
   "metadata": {},
   "outputs": [
    {
     "data": {
      "text/html": [
       "<div>\n",
       "<style scoped>\n",
       "    .dataframe tbody tr th:only-of-type {\n",
       "        vertical-align: middle;\n",
       "    }\n",
       "\n",
       "    .dataframe tbody tr th {\n",
       "        vertical-align: top;\n",
       "    }\n",
       "\n",
       "    .dataframe thead th {\n",
       "        text-align: right;\n",
       "    }\n",
       "</style>\n",
       "<table border=\"1\" class=\"dataframe\">\n",
       "  <thead>\n",
       "    <tr style=\"text-align: right;\">\n",
       "      <th></th>\n",
       "      <th>ID</th>\n",
       "      <th>Movie Name</th>\n",
       "      <th>Year</th>\n",
       "      <th>Timing(min)</th>\n",
       "      <th>Rating(10)</th>\n",
       "      <th>Votes</th>\n",
       "      <th>Genre</th>\n",
       "      <th>Language</th>\n",
       "    </tr>\n",
       "  </thead>\n",
       "  <tbody>\n",
       "    <tr>\n",
       "      <th>0</th>\n",
       "      <td>tt0398974</td>\n",
       "      <td>Dr. Shaitan</td>\n",
       "      <td>1960</td>\n",
       "      <td>-</td>\n",
       "      <td>-</td>\n",
       "      <td>-</td>\n",
       "      <td>-</td>\n",
       "      <td>hindi</td>\n",
       "    </tr>\n",
       "    <tr>\n",
       "      <th>1</th>\n",
       "      <td>tt1702558</td>\n",
       "      <td>Nadir Khan</td>\n",
       "      <td>1968</td>\n",
       "      <td>-</td>\n",
       "      <td>-</td>\n",
       "      <td>-</td>\n",
       "      <td>-</td>\n",
       "      <td>urdu</td>\n",
       "    </tr>\n",
       "    <tr>\n",
       "      <th>2</th>\n",
       "      <td>tt0493437</td>\n",
       "      <td>Apna Sapna Money Money</td>\n",
       "      <td>2006</td>\n",
       "      <td>134 min</td>\n",
       "      <td>5.3</td>\n",
       "      <td>1,892</td>\n",
       "      <td>Comedy, Musical, Romance</td>\n",
       "      <td>hindi</td>\n",
       "    </tr>\n",
       "    <tr>\n",
       "      <th>3</th>\n",
       "      <td>tt0273405</td>\n",
       "      <td>Aag Aur Sholay</td>\n",
       "      <td>1987</td>\n",
       "      <td>-</td>\n",
       "      <td>2.2</td>\n",
       "      <td>20</td>\n",
       "      <td>-</td>\n",
       "      <td>urdu</td>\n",
       "    </tr>\n",
       "    <tr>\n",
       "      <th>4</th>\n",
       "      <td>tt0049595</td>\n",
       "      <td>Parivar</td>\n",
       "      <td>1956</td>\n",
       "      <td>-</td>\n",
       "      <td>7.4</td>\n",
       "      <td>21</td>\n",
       "      <td>Comedy, Drama, Family</td>\n",
       "      <td>hindi</td>\n",
       "    </tr>\n",
       "  </tbody>\n",
       "</table>\n",
       "</div>"
      ],
      "text/plain": [
       "          ID              Movie Name  Year Timing(min) Rating(10)  Votes  \\\n",
       "0  tt0398974             Dr. Shaitan  1960           -          -      -   \n",
       "1  tt1702558              Nadir Khan  1968           -          -      -   \n",
       "2  tt0493437  Apna Sapna Money Money  2006     134 min        5.3  1,892   \n",
       "3  tt0273405          Aag Aur Sholay  1987           -        2.2     20   \n",
       "4  tt0049595                 Parivar  1956           -        7.4     21   \n",
       "\n",
       "                                  Genre Language  \n",
       "0                                     -    hindi  \n",
       "1                                     -     urdu  \n",
       "2  Comedy, Musical, Romance                hindi  \n",
       "3                                     -     urdu  \n",
       "4     Comedy, Drama, Family                hindi  "
      ]
     },
     "execution_count": 2,
     "metadata": {},
     "output_type": "execute_result"
    }
   ],
   "source": [
    "df = pd.read_csv('indian movies.csv')\n",
    "df.head()"
   ]
  },
  {
   "cell_type": "code",
   "execution_count": null,
   "id": "5e93a716",
   "metadata": {},
   "outputs": [],
   "source": []
  }
 ],
 "metadata": {
  "kernelspec": {
   "display_name": "Python 3 (ipykernel)",
   "language": "python",
   "name": "python3"
  },
  "language_info": {
   "codemirror_mode": {
    "name": "ipython",
    "version": 3
   },
   "file_extension": ".py",
   "mimetype": "text/x-python",
   "name": "python",
   "nbconvert_exporter": "python",
   "pygments_lexer": "ipython3",
   "version": "3.9.12"
  }
 },
 "nbformat": 4,
 "nbformat_minor": 5
}
